{
 "cells": [
  {
   "cell_type": "markdown",
   "id": "contained-semester",
   "metadata": {},
   "source": [
    "# Import Libraries"
   ]
  },
  {
   "cell_type": "code",
   "execution_count": null,
   "id": "floral-organ",
   "metadata": {},
   "outputs": [],
   "source": [
    "import numpy as np # linear algebra\n",
    "import pandas as pd # data processing, CSV file I/O (e.g. pd.read_csv)\n",
    "import matplotlib.pyplot as plt\n",
    "import tensorflow as tf\n",
    "import glob\n",
    "from tqdm import tqdm\n",
    "import random\n",
    "import os\n",
    "import tensorflow.keras.layers as L\n",
    "import tensorflow.keras.applications.efficientnet as efn\n",
    "from sklearn.model_selection import train_test_split\n",
    "from tensorflow.keras.utils import to_categorical\n",
    "from tensorflow.keras.preprocessing import image"
   ]
  },
  {
   "cell_type": "markdown",
   "id": "theoretical-income",
   "metadata": {},
   "source": [
    "# Data Directories"
   ]
  },
  {
   "cell_type": "code",
   "execution_count": null,
   "id": "prompt-physiology",
   "metadata": {},
   "outputs": [],
   "source": [
    "train_img_dir = '/kaggle/input/happy-whale-and-dolphin/train_images'\n",
    "test_img_dir = '/kaggle/input/happy-whale-and-dolphin/test_images'\n",
    "sub_path = '/kaggle/input/happy-whale-and-dolphin/sample_submission.csv'\n",
    "train_path = '/kaggle/input/happy-whale-and-dolphin/train.csv'"
   ]
  },
  {
   "cell_type": "markdown",
   "id": "changing-remark",
   "metadata": {},
   "source": [
    "# Label Inspection"
   ]
  },
  {
   "cell_type": "code",
   "execution_count": null,
   "id": "answering-botswana",
   "metadata": {},
   "outputs": [],
   "source": [
    "train_df = pd.read_csv(train_path)\n",
    "train_df.loc[train_df.species == \"bottlenose_dolpin\", \"species\"] = \"bottlenose_dolphin\"\n",
    "train_df.loc[train_df.species == \"kiler_whale\", \"species\"] = \"killer_whale\"\n",
    "train_df.loc[train_df.species == \"globis\", \"species\"] = \"short_finned_pilot_whale\"\n",
    "train_df.loc[train_df.species == \"pilot_whale\", \"species\"] = \"short_finned_pilot_whale\"\n",
    "train_df.loc[train_df.species == \"beluga\", \"species\"] = \"beluga_whale\"\n",
    "print(len(train_df['species'].unique()))\n",
    "print(train_df['species'].unique())"
   ]
  },
  {
   "cell_type": "markdown",
   "id": "broken-reynolds",
   "metadata": {},
   "source": [
    "# Image Label Creation"
   ]
  },
  {
   "cell_type": "code",
   "execution_count": null,
   "id": "previous-accountability",
   "metadata": {},
   "outputs": [],
   "source": [
    "train_df.loc[train_df.species.str.contains(\"whale\")==True, \"label\"] = \"whale\"\n",
    "train_df.loc[train_df.species.str.contains(\"dolphin\")==True, \"label\"] = \"dolphin\""
   ]
  },
  {
   "cell_type": "markdown",
   "id": "comic-satisfaction",
   "metadata": {},
   "source": [
    "# Image URL creation "
   ]
  },
  {
   "cell_type": "code",
   "execution_count": null,
   "id": "injured-roman",
   "metadata": {},
   "outputs": [],
   "source": [
    "train_df['image_path'] = train_img_dir+'/'+train_df['image']\n",
    "train_df['image_path']"
   ]
  },
  {
   "cell_type": "markdown",
   "id": "broke-humidity",
   "metadata": {},
   "source": [
    "# Resizing Image"
   ]
  },
  {
   "cell_type": "code",
   "execution_count": null,
   "id": "entertaining-filename",
   "metadata": {},
   "outputs": [],
   "source": [
    "#function to resize each image \n",
    "def resize_images(path,n_w,n_h):#n_w =new width n_h = new_height\n",
    "    img = tf.io.read_file(path)\n",
    "    img = tf.image.decode_jpeg(img, channels=3)#can decode to another format \n",
    "    img = tf.image.resize(img, [n_w, n_h])\n",
    "    return img\n"
   ]
  },
  {
   "cell_type": "code",
   "execution_count": null,
   "id": "grand-detective",
   "metadata": {},
   "outputs": [],
   "source": [
    "N = len(train_df)\n",
    "image_size = 128\n",
    "image_train = np.empty((N, image_size, image_size, 3), dtype=np.uint8)\n",
    "# loop through the images from the images ids from the target\\id dataset\n",
    "# then grab the cooresponding image from disk, pre-process, and store in matrix in memory\n",
    "for index,row in train_df.iterrows():\n",
    "    re_img = resize_images(row.image_path,image_size,image_size)\n",
    "#     image_train[i, :, :, :] = re_img\n",
    "#     image = plt.imread(re_img) #after resizing It could not be plot \n",
    "    #hence used tf casting to plot the image\n",
    "    image = tf.cast(re_img, np.uint8)\n",
    "    print((re_img.shape))\n",
    "    plt.imshow(image)\n",
    "    break"
   ]
  },
  {
   "cell_type": "markdown",
   "id": "physical-acceptance",
   "metadata": {},
   "source": [
    "# Pre trained Efficient net model"
   ]
  },
  {
   "cell_type": "code",
   "execution_count": null,
   "id": "recognized-instruction",
   "metadata": {},
   "outputs": [],
   "source": [
    "IMAGE_SIZE = [128, 128]\n",
    "model = tf.keras.Sequential([efn.EfficientNetB7(input_shape=(*IMAGE_SIZE, 3),\n",
    "                                                weights='imagenet',\n",
    "                                                include_top=False),\n",
    "                             L.GlobalAveragePooling2D(),\n",
    "                             L.Dense(1, activation='sigmoid')])\n",
    "model.compile(optimizer='adam',\n",
    "              loss = 'binary_crossentropy',\n",
    "              metrics=['accuracy']\n",
    "             )\n",
    "model.summary()"
   ]
  },
  {
   "cell_type": "markdown",
   "id": "75ae76af",
   "metadata": {},
   "source": [
    "# generate training data"
   ]
  },
  {
   "cell_type": "code",
   "execution_count": null,
   "id": "384b54a7",
   "metadata": {},
   "outputs": [],
   "source": [
    "train_image_list = []\n",
    "image_size = 128\n",
    "for index,row in tqdm(train_df.iterrows()):\n",
    "    img = image.load_img(row.image_path, target_size=(128,128,1), grayscale=True)\n",
    "    img = image.img_to_array(img)\n",
    "    img = img/255\n",
    "    train_image_list.append(img)\n",
    "X = np.array(train_image_list)\n",
    "y = train_df['label'].values\n",
    "y = to_categorical(y)"
   ]
  },
  {
   "cell_type": "markdown",
   "id": "0aa13eb8",
   "metadata": {},
   "source": [
    "# divide into train and validation set "
   ]
  },
  {
   "cell_type": "code",
   "execution_count": null,
   "id": "c7ada006",
   "metadata": {},
   "outputs": [],
   "source": [
    "X_train, X_valid, y_train, y_valid = train_test_split(X, y, random_state=42, test_size=0.2)"
   ]
  },
  {
   "cell_type": "markdown",
   "id": "8f447e28",
   "metadata": {},
   "source": [
    "# train with training and validation data"
   ]
  },
  {
   "cell_type": "code",
   "execution_count": null,
   "id": "b021e687",
   "metadata": {},
   "outputs": [],
   "source": [
    "model.fit(X_train, y_train, epochs=10, validation_data=(X_test, y_test))"
   ]
  }
 ],
 "metadata": {
  "kernelspec": {
   "display_name": "Python 3 (ipykernel)",
   "language": "python",
   "name": "python3"
  },
  "language_info": {
   "codemirror_mode": {
    "name": "ipython",
    "version": 3
   },
   "file_extension": ".py",
   "mimetype": "text/x-python",
   "name": "python",
   "nbconvert_exporter": "python",
   "pygments_lexer": "ipython3",
   "version": "3.9.7"
  }
 },
 "nbformat": 4,
 "nbformat_minor": 5
}
