{
 "cells": [
  {
   "cell_type": "markdown",
   "metadata": {},
   "source": [
    "Imports"
   ]
  },
  {
   "cell_type": "code",
   "execution_count": 20,
   "metadata": {
    "_cell_guid": "b1076dfc-b9ad-4769-8c92-a6c4dae69d19",
    "_uuid": "8f2839f25d086af736a60e9eeb907d3b93b6e0e5",
    "execution": {
     "iopub.execute_input": "2022-03-24T23:38:23.199718Z",
     "iopub.status.busy": "2022-03-24T23:38:23.198706Z",
     "iopub.status.idle": "2022-03-24T23:38:25.091004Z",
     "shell.execute_reply": "2022-03-24T23:38:25.089586Z",
     "shell.execute_reply.started": "2022-03-24T23:38:23.199648Z"
    }
   },
   "outputs": [],
   "source": [
    "# This Python 3 environment comes with many helpful analytics libraries installed\n",
    "# It is defined by the kaggle/python Docker image: https://github.com/kaggle/docker-python\n",
    "# For example, here's several helpful packages to load\n",
    "\n",
    "import numpy as np # linear algebra\n",
    "import pandas as pd # data processing, CSV file I/O (e.g. pd.read_csv)\n",
    "\n",
    "import matplotlib.pyplot as plt\n",
    "import tensorflow as tf\n",
    "from tensorflow import keras\n",
    "import glob\n",
    "from tqdm import tqdm\n",
    "import random\n",
    "import os\n",
    "\n",
    "# Input data files are available in the read-only \"../input/\" directory\n",
    "# For example, running this (by clicking run or pressing Shift+Enter) will list all files under the input directory\n",
    "\n",
    "import os\n"
   ]
  },
  {
   "cell_type": "markdown",
   "metadata": {},
   "source": []
  },
  {
   "cell_type": "code",
   "execution_count": 20,
   "metadata": {
    "_cell_guid": "b1076dfc-b9ad-4769-8c92-a6c4dae69d19",
    "_uuid": "8f2839f25d086af736a60e9eeb907d3b93b6e0e5",
    "execution": {
     "iopub.execute_input": "2022-03-24T23:38:23.199718Z",
     "iopub.status.busy": "2022-03-24T23:38:23.198706Z",
     "iopub.status.idle": "2022-03-24T23:38:25.091004Z",
     "shell.execute_reply": "2022-03-24T23:38:25.089586Z",
     "shell.execute_reply.started": "2022-03-24T23:38:23.199648Z"
    }
   },
   "outputs": [],
   "source": [
    "# You can write up to 20GB to the current directory (/kaggle/working/) that gets preserved as output when you create a version using \"Save & Run All\" \n",
    "# You can also write temporary files to /kaggle/temp/, but they won't be saved outside of the current session\n",
    "\n",
    "# Mapping the Directories\n",
    "train_img_dir = '/kaggle/input/happy-whale-and-dolphin/train_images'\n",
    "test_img_dir = '/kaggle/input/happy-whale-and-dolphin/test_images'\n",
    "sub_path = '/kaggle/input/happy-whale-and-dolphin/sample_submission.csv'\n",
    "train_path = '/kaggle/input/happy-whale-and-dolphin/train.csv'\n",
    "\n",
    "# KRP: Get the training data set\n",
    "train_csv = '/kaggle/input/happy-whale-and-dolphin/train.csv'\n",
    "train_df = pd.read_csv(train_csv)\n",
    "\n",
    "# KRP: Adding the edits to fix known issues in the dataset suggested by Aleksey Alekseev in the challenge discussions\n",
    "#   see: https://www.kaggle.com/c/happy-whale-and-dolphin/discussion/305574\n",
    "train_df.species.replace({\"globis\": \"short_finned_pilot_whale\",\n",
    "                          \"pilot_whale\": \"short_finned_pilot_whale\",\n",
    "                          \"kiler_whale\": \"killer_whale\",\n",
    "                          \"bottlenose_dolpin\": \"bottlenose_dolphin\"}, inplace=True)\n",
    "\n",
    "# KRP: Print first to understand what is here\n",
    "print(train_df.iloc[1])\n",
    "print(train_array[0])\n",
    "\n",
    "# KRP: Convert to arrays for labels and images\n",
    "train_array = train_df.to_numpy()\n",
    "\n",
    "# MJI: function to resize each image \n",
    "def resize_images(path,n_w,n_h):#n_w =new width n_h = new_height\n",
    "    img = tf.io.read_file(path)\n",
    "    img = tf.image.decode_jpeg(img, channels=3)#can decode to another format \n",
    "    img = tf.image.resize(img, [n_w, n_h])\n",
    "    return img\n",
    "\n",
    "# KRP: create an array of all the image names\n",
    "train_images = train_array[:,0]\n",
    "print(\"Length Image List\")\n",
    "print(len(train_images))\n",
    "\n",
    "\n",
    "# KRP: make the image array, images of size 128*128*3\n",
    "# Note: the resize image is being called against specific image names in the image name array\n",
    "#   this is to ensure that the images are loaded in the same order as the labels\n",
    "N = len(train_images)\n",
    "image_size = 128\n",
    "image_train = np.empty((N, image_size, image_size, 3), dtype=np.uint8)\n",
    "# loop through the images from the images ids from the target\\id dataset\n",
    "# then grab the cooresponding image from disk, pre-process, and store in matrix in memory\n",
    "for i in range(0,N):\n",
    "    re_img = resize_images(train_img_dir + \"/\" + train_images[i],image_size,image_size)\n",
    "    image_train[i, :, :, :] = re_img    \n",
    "\n",
    "# KRP: Note, we should save some of these training datasets this generation takes a long time\n",
    "    \n",
    "    \n",
    "# KRP: Now we can work with the training data"
   ]
  },
  {
   "cell_type": "markdown",
   "metadata": {},
   "source": [
    "Deprecated Demo Code"
   ]
  },
  {
   "cell_type": "code",
   "execution_count": null,
   "metadata": {},
   "outputs": [],
   "source": [
    "# # KRP: Deprecated demo code, could be useful again in the future\n",
    "\n",
    "# KRP: Original filesystem walk, Commenting this out, it takes a really long time\n",
    "#for dirname, _, filenames in os.walk('/kaggle/input'):\n",
    "#    for filename in filenames:\n",
    "#        print(os.path.join(dirname, filename))\n",
    "\n",
    "# # KRP: doesn't work in console, should let you show an image on the dataset\n",
    "# example_image = image_train[1, :, :, :]\n",
    "# pil_img = tf.keras.preprocessing.image.array_to_img(example_image)\n",
    "# pil_img.show()\n",
    "\n",
    "\n",
    "# # KRP: Check the whale type label list\n",
    "# train_labels_whaletype = train_array[:,1]\n",
    "# print(\"random label\")\n",
    "# print(train_labels_whaletype[3])\n",
    "\n",
    "# # KRP: Lets Look at the images, this was earlier demo code, taking it out now\n",
    "# list_train_images = glob.glob(train_img_dir+\"/*\")\n",
    "# image_count = len(list_train_images)\n",
    "# print(\"Image Count\")\n",
    "# print(image_count)\n",
    "\n",
    "# # KRP: demo to show we can get each \n",
    "# print(train_df.iloc[1].image)\n",
    "# image = tf.keras.preprocessing.image.load_img(train_img_dir+\"/\"+train_df.iloc[1].image)\n",
    "# input_arr = tf.keras.preprocessing.image.img_to_array(image)"
   ]
  }
 ],
 "metadata": {
  "kernelspec": {
   "display_name": "Python 3",
   "language": "python",
   "name": "python3"
  },
  "language_info": {
   "codemirror_mode": {
    "name": "ipython",
    "version": 3
   },
   "file_extension": ".py",
   "mimetype": "text/x-python",
   "name": "python",
   "nbconvert_exporter": "python",
   "pygments_lexer": "ipython3",
   "version": "3.7.10"
  }
 },
 "nbformat": 4,
 "nbformat_minor": 4
}
