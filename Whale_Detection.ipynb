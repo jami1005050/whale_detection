{
 "cells": [
  {
   "cell_type": "markdown",
   "id": "contained-semester",
   "metadata": {},
   "source": [
    "# Import Libraries"
   ]
  },
  {
   "cell_type": "code",
   "execution_count": null,
   "id": "floral-organ",
   "metadata": {},
   "outputs": [],
   "source": [
    "import numpy as np # linear algebra\n",
    "import pandas as pd # data processing, CSV file I/O (e.g. pd.read_csv)\n",
    "import matplotlib.pyplot as plt\n",
    "import tensorflow as tf\n",
    "import glob\n",
    "from tqdm import tqdm\n",
    "import random\n",
    "import os"
   ]
  },
  {
   "cell_type": "markdown",
   "id": "theoretical-income",
   "metadata": {},
   "source": [
    "# Data Directories"
   ]
  },
  {
   "cell_type": "code",
   "execution_count": null,
   "id": "prompt-physiology",
   "metadata": {},
   "outputs": [],
   "source": [
    "train_img_dir = '/kaggle/input/happy-whale-and-dolphin/train_images'\n",
    "test_img_dir = '/kaggle/input/happy-whale-and-dolphin/test_images'\n",
    "sub_path = '/kaggle/input/happy-whale-and-dolphin/sample_submission.csv'\n",
    "train_path = '/kaggle/input/happy-whale-and-dolphin/train.csv'"
   ]
  },
  {
   "cell_type": "markdown",
   "id": "changing-remark",
   "metadata": {},
   "source": [
    "# Label Inspection"
   ]
  },
  {
   "cell_type": "code",
   "execution_count": null,
   "id": "answering-botswana",
   "metadata": {},
   "outputs": [],
   "source": [
    "train_df = pd.read_csv(train_path)\n",
    "train_df.loc[train_df.species == \"bottlenose_dolpin\", \"species\"] = \"bottlenose_dolphin\"\n",
    "train_df.loc[train_df.species == \"kiler_whale\", \"species\"] = \"killer_whale\"\n",
    "train_df.loc[train_df.species == \"globis\", \"species\"] = \"short_finned_pilot_whale\"\n",
    "train_df.loc[train_df.species == \"pilot_whale\", \"species\"] = \"short_finned_pilot_whale\"\n",
    "train_df.loc[train_df.species == \"beluga\", \"species\"] = \"beluga_whale\"\n",
    "print(len(train_df['species'].unique()))\n",
    "print(train_df['species'].unique())"
   ]
  },
  {
   "cell_type": "markdown",
   "id": "broke-humidity",
   "metadata": {},
   "source": [
    "# Resizing Image"
   ]
  },
  {
   "cell_type": "code",
   "execution_count": null,
   "id": "entertaining-filename",
   "metadata": {},
   "outputs": [],
   "source": [
    "#function to resize each image \n",
    "def resize_images(path,n_w,n_h):#n_w =new width n_h = new_height\n",
    "    img = tf.io.read_file(path)\n",
    "    img = tf.image.decode_jpeg(img, channels=3)#can decode to another format \n",
    "    img = tf.image.resize(img, [n_w, n_h])\n",
    "    return img\n"
   ]
  },
  {
   "cell_type": "code",
   "execution_count": null,
   "id": "grand-detective",
   "metadata": {},
   "outputs": [],
   "source": [
    "list_train_images = glob.glob(train_img_dir+\"/*\")\n",
    "# print(list_train_images)\n",
    "N = len(list_train_images)\n",
    "image_size = 128\n",
    "image_train = np.empty((N, image_size, image_size, 3), dtype=np.uint8)\n",
    "# loop through the images from the images ids from the target\\id dataset\n",
    "# then grab the cooresponding image from disk, pre-process, and store in matrix in memory\n",
    "for i in range(0,N):\n",
    "    re_img = resize_images(list_train_images[i],image_size,image_size)\n",
    "    image_train[i, :, :, :] = re_img\n",
    "#     image = plt.imread(re_img) #after resizing It could not be plot \n",
    "    #hence used tf casting to plot the image\n",
    "    image = tf.cast(re_img, np.uint8)\n",
    "    print((re_img.shape))\n",
    "    plt.imshow(image)\n",
    "    break"
   ]
  }
 ],
 "metadata": {
  "kernelspec": {
   "display_name": "Python 3",
   "language": "python",
   "name": "python3"
  },
  "language_info": {
   "codemirror_mode": {
    "name": "ipython",
    "version": 3
   },
   "file_extension": ".py",
   "mimetype": "text/x-python",
   "name": "python",
   "nbconvert_exporter": "python",
   "pygments_lexer": "ipython3",
   "version": "3.7.10"
  }
 },
 "nbformat": 4,
 "nbformat_minor": 5
}
